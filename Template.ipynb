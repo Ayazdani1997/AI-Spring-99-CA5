{
  "nbformat": 4,
  "nbformat_minor": 0,
  "metadata": {
    "colab": {
      "name": "Template.ipynb",
      "provenance": [],
      "authorship_tag": "ABX9TyOA4odn4atXXRe/TuM4/JMf",
      "include_colab_link": true
    },
    "kernelspec": {
      "name": "python3",
      "display_name": "Python 3"
    }
  },
  "cells": [
    {
      "cell_type": "markdown",
      "metadata": {
        "id": "view-in-github",
        "colab_type": "text"
      },
      "source": [
        "<a href=\"https://colab.research.google.com/github/Ayazdani1997/AI-Spring-99-CA5/blob/master/Template.ipynb\" target=\"_parent\"><img src=\"https://colab.research.google.com/assets/colab-badge.svg\" alt=\"Open In Colab\"/></a>"
      ]
    },
    {
      "cell_type": "code",
      "metadata": {
        "id": "5cMl-n36xKZA",
        "colab_type": "code",
        "colab": {}
      },
      "source": [
        "import torchvision\n",
        "import torch\n",
        "import matplotlib.pyplot as plt\n",
        "from torch.utils.data import Dataset, DataLoader, random_split\n",
        "from torchvision.datasets import ImageFolder\n",
        "from torch.utils.data.sampler import SubsetRandomSampler\n",
        "from torchvision import transforms, utils"
      ],
      "execution_count": 0,
      "outputs": []
    },
    {
      "cell_type": "markdown",
      "metadata": {
        "id": "g7A23D4lUBe5",
        "colab_type": "text"
      },
      "source": [
        "Step 1: Define transform classes, instantiating transform objects and instantiating the dataset."
      ]
    },
    {
      "cell_type": "code",
      "metadata": {
        "id": "biWxYuFZ3GsY",
        "colab_type": "code",
        "colab": {}
      },
      "source": [
        "\n",
        "\n",
        "class ToTensor(object):\n",
        "    \"\"\"Convert PIL Images in sample to pytorch Tensors.\"\"\"\n",
        "    \n",
        "    ## the input image must be grayscaled first\n",
        "    def __call__(self, image):\n",
        "        image = np.array(image, dtype=np.float32)\n",
        "        # numpy image: H x W\n",
        "        return torch.from_numpy(image)"
      ],
      "execution_count": 0,
      "outputs": []
    },
    {
      "cell_type": "code",
      "metadata": {
        "id": "NmIqe4Zj55EI",
        "colab_type": "code",
        "colab": {}
      },
      "source": [
        "transform = transforms.Compose([transforms.Grayscale(),\n",
        "                                ToTensor()\n",
        "                               ]\n",
        "                              ) ## composes multiple transforms into single one\n",
        "\n",
        "dataset = ImageFolder( ### provide path to the dataset root ####\n",
        "                      , transform=transform)"
      ],
      "execution_count": 0,
      "outputs": []
    },
    {
      "cell_type": "markdown",
      "metadata": {
        "id": "10_0X5gv3Gsj",
        "colab_type": "text"
      },
      "source": [
        "Step 2: Split Dataset and Make it Iterable"
      ]
    },
    {
      "cell_type": "code",
      "metadata": {
        "id": "1-NvGD-o3Gsl",
        "colab_type": "code",
        "colab": {}
      },
      "source": [
        "batch_size = 64\n",
        "\n",
        "indices = range(len(dataset)) # indices of the dataset\n",
        "\n",
        "# TODO: split the dataset into train and test sets randomly with split of 0.2 and assign their indices in the original set to train_indices and test_indices \n",
        "\n",
        "# Creating PT data samplers and loaders:\n",
        "train_sampler = SubsetRandomSampler(train_indices)\n",
        "test_sampler = SubsetRandomSampler(test_indices)\n",
        "\n",
        "train_loader = torch.utils.data.DataLoader(dataset, batch_size=batch_size, sampler=train_sampler, num_workers=16)\n",
        "test_loader = torch.utils.data.DataLoader(dataset, batch_size=batch_size, sampler=test_sampler, num_workers=16)"
      ],
      "execution_count": 0,
      "outputs": []
    },
    {
      "cell_type": "code",
      "metadata": {
        "id": "yeAKVSxMDSFi",
        "colab_type": "code",
        "outputId": "0cfe7e3e-6755-4ea1-8303-eb8e8c70ffe7",
        "colab": {
          "base_uri": "https://localhost:8080/",
          "height": 286
        }
      },
      "source": [
        "def imshow(img):\n",
        "    plt.imshow(img, cmap='gray')\n",
        "    plt.show()\n",
        "\n",
        "data_iter = iter(train_loader)\n",
        "images, label = data_iter.next() # first batch of train dataset\n",
        "\n",
        "# show first image of the batch\n",
        "imshow(images[0])\n",
        "print('the class of this product is %s' % (dataset.classes[label[0]]))"
      ],
      "execution_count": 0,
      "outputs": [
        {
          "output_type": "display_data",
          "data": {
            "image/png": "[encoded data removed]",
            "text/plain": [
              "<Figure size 432x288 with 1 Axes>"
            ]
          },
          "metadata": {
            "tags": [],
            "needs_background": "light"
          }
        },
        {
          "output_type": "stream",
          "text": [
            "the class of this product is Tshirts\n"
          ],
          "name": "stdout"
        }
      ]
    }
  ]
}